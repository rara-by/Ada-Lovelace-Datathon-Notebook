{
  "nbformat": 4,
  "nbformat_minor": 0,
  "metadata": {
    "colab": {
      "name": "Team-BabaYaga.ipynb",
      "provenance": [],
      "collapsed_sections": [],
      "toc_visible": true
    },
    "kernelspec": {
      "name": "python3",
      "display_name": "Python 3"
    }
  },
  "cells": [
    {
      "cell_type": "code",
      "metadata": {
        "colab": {
          "base_uri": "https://localhost:8080/"
        },
        "id": "Gos51volS3wq",
        "outputId": "77fef0bf-f916-4b25-bd5e-f8767daf00c9"
      },
      "source": [
        "from google.colab import drive\n",
        "drive.mount('/content/drive')"
      ],
      "execution_count": null,
      "outputs": [
        {
          "output_type": "stream",
          "text": [
            "Mounted at /content/drive\n"
          ],
          "name": "stdout"
        }
      ]
    },
    {
      "cell_type": "code",
      "metadata": {
        "colab": {
          "base_uri": "https://localhost:8080/"
        },
        "id": "icmiThtu7PvV",
        "outputId": "e48c34f9-fe53-484d-f29e-85e9ae1adc55"
      },
      "source": [
        "cd '/content/drive/MyDrive/ada lovelace/' #drive path"
      ],
      "execution_count": null,
      "outputs": [
        {
          "output_type": "stream",
          "text": [
            "/content/drive/MyDrive/ada lovelace\n"
          ],
          "name": "stdout"
        }
      ]
    },
    {
      "cell_type": "markdown",
      "metadata": {
        "id": "8vYz1z_98A5U"
      },
      "source": [
        "# Libraries"
      ]
    },
    {
      "cell_type": "code",
      "metadata": {
        "id": "qShIGsKa7l_K",
        "colab": {
          "base_uri": "https://localhost:8080/",
          "height": 17
        },
        "outputId": "ebc02d94-f232-464c-840f-29fa729b06c8"
      },
      "source": [
        "import pandas as pd\r\n",
        "import numpy as np\r\n",
        "from sklearn.metrics import accuracy_score, confusion_matrix, precision_score, recall_score, roc_auc_score, roc_curve, f1_score\r\n",
        "%matplotlib inline\r\n",
        "import matplotlib.pyplot as plt\r\n",
        "import re\r\n",
        "import seaborn as sns\r\n",
        "\r\n",
        "import plotly.offline as py\r\n",
        "py.init_notebook_mode(connected=True)\r\n",
        "import plotly.graph_objs as go\r\n",
        "import plotly.tools as tls\r\n",
        "\r\n",
        "import warnings\r\n",
        "warnings.filterwarnings('ignore')\r\n",
        "\r\n",
        "from sklearn.svm import SVC\r\n",
        "from sklearn.model_selection import KFold\r\n",
        "\r\n"
      ],
      "execution_count": null,
      "outputs": [
        {
          "output_type": "display_data",
          "data": {
            "text/html": [
              "        <script type=\"text/javascript\">\n",
              "        window.PlotlyConfig = {MathJaxConfig: 'local'};\n",
              "        if (window.MathJax) {MathJax.Hub.Config({SVG: {font: \"STIX-Web\"}});}\n",
              "        if (typeof require !== 'undefined') {\n",
              "        require.undef(\"plotly\");\n",
              "        requirejs.config({\n",
              "            paths: {\n",
              "                'plotly': ['https://cdn.plot.ly/plotly-latest.min']\n",
              "            }\n",
              "        });\n",
              "        require(['plotly'], function(Plotly) {\n",
              "            window._Plotly = Plotly;\n",
              "        });\n",
              "        }\n",
              "        </script>\n",
              "        "
            ]
          },
          "metadata": {
            "tags": []
          }
        }
      ]
    },
    {
      "cell_type": "markdown",
      "metadata": {
        "id": "maOPsgbn7zbj"
      },
      "source": [
        "# Explore the data"
      ]
    },
    {
      "cell_type": "markdown",
      "metadata": {
        "id": "ZcgHdHy28RI9"
      },
      "source": [
        "Load and preview data"
      ]
    },
    {
      "cell_type": "code",
      "metadata": {
        "id": "agvs7zKS8Mip"
      },
      "source": [
        "train = pd.read_csv('')\r\n",
        "test = pd.read_csv('')\r\n",
        "train"
      ],
      "execution_count": null,
      "outputs": []
    },
    {
      "cell_type": "markdown",
      "metadata": {
        "id": "XrmoZ5nO9N4N"
      },
      "source": [
        "**Cleaning**"
      ]
    },
    {
      "cell_type": "code",
      "metadata": {
        "id": "1dlmkY1xnVDu",
        "colab": {
          "base_uri": "https://localhost:8080/"
        },
        "outputId": "c5c7f1b6-856e-4041-a094-1793886f981f"
      },
      "source": [
        "train['id'].unique().shape"
      ],
      "execution_count": null,
      "outputs": [
        {
          "output_type": "execute_result",
          "data": {
            "text/plain": [
              "(8610,)"
            ]
          },
          "metadata": {
            "tags": []
          },
          "execution_count": 5
        }
      ]
    },
    {
      "cell_type": "code",
      "metadata": {
        "id": "ekcarD_h9Btm"
      },
      "source": [
        "#look for null values\r\n",
        "print('Null values in train data\\n',train.isna().sum(), '\\n')\r\n",
        "print('Null values in test data\\n',test.isna().sum(), '\\n')\r\n",
        "print(train.info(), '\\n')\r\n",
        "print(test.info())"
      ],
      "execution_count": null,
      "outputs": []
    },
    {
      "cell_type": "code",
      "metadata": {
        "id": "9RL6PrSzKOfL",
        "colab": {
          "base_uri": "https://localhost:8080/"
        },
        "outputId": "028aeca9-35f7-469d-ff05-4d2ea6fb47da"
      },
      "source": [
        "train['depression'].unique()"
      ],
      "execution_count": null,
      "outputs": [
        {
          "output_type": "execute_result",
          "data": {
            "text/plain": [
              "array([0, 1])"
            ]
          },
          "metadata": {
            "tags": []
          },
          "execution_count": 7
        }
      ]
    },
    {
      "cell_type": "code",
      "metadata": {
        "id": "WQ932mSZ92en"
      },
      "source": [
        "y_train = train.loc[:,'depression']\r\n",
        "X_train = train.loc[:, train.columns != 'depression']\r\n",
        "\r\n",
        "X_test = test"
      ],
      "execution_count": null,
      "outputs": []
    },
    {
      "cell_type": "code",
      "metadata": {
        "id": "Cgb5EO5HkAce"
      },
      "source": [
        "X_train.drop('id',inplace=True, axis=1)\r\n",
        "test_id = X_test['id']\r\n",
        "X_test.drop('id',inplace=True, axis=1)"
      ],
      "execution_count": null,
      "outputs": []
    },
    {
      "cell_type": "markdown",
      "metadata": {
        "id": "2vmkPcYwA8iv"
      },
      "source": [
        "KNN Imputation "
      ]
    },
    {
      "cell_type": "code",
      "metadata": {
        "id": "TKE5NqZhBDTG",
        "colab": {
          "base_uri": "https://localhost:8080/"
        },
        "outputId": "33b84ca1-5070-4a5c-9588-d685a7137833"
      },
      "source": [
        "def knnimputer(data):\r\n",
        "  from sklearn.impute import KNNImputer\r\n",
        "\r\n",
        "  knnimp = KNNImputer(n_neighbors=5)\r\n",
        "  data = pd.DataFrame(knnimp.fit_transform(data), columns = data.columns)\r\n",
        "  return data\r\n",
        "\r\n",
        "X_train_imp = knnimputer(X_train)\r\n",
        "X_test_imp = knnimputer(X_test)\r\n",
        "print('Train\\n', X_train_imp.isnull().sum())\r\n",
        "print('\\nTest\\n', X_test_imp.isnull().sum())"
      ],
      "execution_count": null,
      "outputs": [
        {
          "output_type": "stream",
          "text": [
            "Train\n",
            " city                      0\n",
            "gender                    0\n",
            "age                       0\n",
            "job                       0\n",
            "health_worker_self        0\n",
            "health_worker_family      0\n",
            "family_status             0\n",
            "income_group              0\n",
            "current_physical          0\n",
            "past_physical             0\n",
            "current_mental            0\n",
            "past_mental               0\n",
            "exercise                  0\n",
            "healthy_diet              0\n",
            "healthy_sleep             0\n",
            "activity                  0\n",
            "interaction_offline       0\n",
            "interaction_online        0\n",
            "preventive_behaviors      0\n",
            "optimism                  0\n",
            "deterioration_economy     0\n",
            "deterioration_interact    0\n",
            "frustration               0\n",
            "covid_anxiety             0\n",
            "covid_sleepless           0\n",
            "difficulty_living         0\n",
            "difficulty_work           0\n",
            "dtype: int64\n",
            "\n",
            "Test\n",
            " city                      0\n",
            "gender                    0\n",
            "age                       0\n",
            "job                       0\n",
            "health_worker_self        0\n",
            "health_worker_family      0\n",
            "family_status             0\n",
            "income_group              0\n",
            "current_physical          0\n",
            "past_physical             0\n",
            "current_mental            0\n",
            "past_mental               0\n",
            "exercise                  0\n",
            "healthy_diet              0\n",
            "healthy_sleep             0\n",
            "activity                  0\n",
            "interaction_offline       0\n",
            "interaction_online        0\n",
            "preventive_behaviors      0\n",
            "optimism                  0\n",
            "deterioration_economy     0\n",
            "deterioration_interact    0\n",
            "frustration               0\n",
            "covid_anxiety             0\n",
            "covid_sleepless           0\n",
            "difficulty_living         0\n",
            "difficulty_work           0\n",
            "depression                0\n",
            "dtype: int64\n"
          ],
          "name": "stdout"
        }
      ]
    },
    {
      "cell_type": "markdown",
      "metadata": {
        "id": "-6cjRKe-gwmM"
      },
      "source": [
        "Pearson Correlation"
      ]
    },
    {
      "cell_type": "code",
      "metadata": {
        "id": "NA9Tavw5gyZS"
      },
      "source": [
        "colormap = plt.cm.RdBu\r\n",
        "plt.figure(figsize=(18,16))\r\n",
        "plt.title('Pearson Correlation of Features', y=1.05, size=15)\r\n",
        "sns.heatmap(X_train_imp.astype(float).corr(),linewidths=0.1,vmax=1.0, \r\n",
        "            square=True, cmap=colormap, linecolor='white', annot=True)"
      ],
      "execution_count": null,
      "outputs": []
    },
    {
      "cell_type": "markdown",
      "metadata": {
        "id": "NmICDfYAC3Qh"
      },
      "source": [
        "Split into train and validation"
      ]
    },
    {
      "cell_type": "code",
      "metadata": {
        "id": "-TnrdTRLC5ne",
        "colab": {
          "base_uri": "https://localhost:8080/"
        },
        "outputId": "573dea6f-3b2e-4afa-abac-176b582491e2"
      },
      "source": [
        "from sklearn.model_selection import train_test_split\r\n",
        "\r\n",
        "X_train_new, X_val, y_train_new, y_val = train_test_split(X_train_imp, y_train, test_size = 0.1)\r\n",
        "print(X_train_new.shape, y_train_new.shape, X_val.shape)\r\n"
      ],
      "execution_count": null,
      "outputs": [
        {
          "output_type": "stream",
          "text": [
            "(7749, 27) (7749,) (861, 27)\n"
          ],
          "name": "stdout"
        }
      ]
    },
    {
      "cell_type": "markdown",
      "metadata": {
        "id": "TsGa4BNeDXTl"
      },
      "source": [
        "# Training and Validation"
      ]
    },
    {
      "cell_type": "markdown",
      "metadata": {
        "id": "xAV7ZW0HDznL"
      },
      "source": [
        "Random Forest"
      ]
    },
    {
      "cell_type": "code",
      "metadata": {
        "id": "1TQsFF0SDyuZ"
      },
      "source": [
        "from sklearn.ensemble import RandomForestClassifier\r\n",
        "from sklearn.feature_selection import SelectFromModel\r\n",
        "\r\n",
        "seed = 100\r\n",
        "\r\n",
        "# rf = RandomForestClassifier(\r\n",
        "#                       min_samples_leaf=50,\r\n",
        "#                       n_estimators=150,\r\n",
        "#                       bootstrap=True,\r\n",
        "#                       oob_score=True,\r\n",
        "#                       n_jobs=-1,\r\n",
        "#                       random_state=seed,\r\n",
        "#                       max_features='auto')\r\n",
        "\r\n",
        "rf = RandomForestClassifier(\r\n",
        "                      min_samples_leaf=20,\r\n",
        "                      n_estimators=500,\r\n",
        "                      bootstrap=True,\r\n",
        "                      oob_score=True,\r\n",
        "                      n_jobs=-1,\r\n",
        "                      random_state=seed,\r\n",
        "                      max_features='auto')\r\n",
        "\r\n",
        "\r\n",
        "rf.fit(X_train_new,y_train_new)\r\n",
        "\r\n",
        "y_pred_rf = rf.predict(X_val)\r\n",
        "y_predproba_rf = rf.predict_proba(X_val)[:, 1]"
      ],
      "execution_count": null,
      "outputs": []
    },
    {
      "cell_type": "markdown",
      "metadata": {
        "id": "lKry41ccUTn8"
      },
      "source": [
        "Feature selection"
      ]
    },
    {
      "cell_type": "code",
      "metadata": {
        "id": "r0ZNqoXIUTR-"
      },
      "source": [
        "sel = SelectFromModel(rf)\r\n",
        "sel.fit(X_train_new,y_train_new)\r\n",
        "sel.get_support()\r\n",
        "\r\n",
        "selected_feat= X_train_new.columns[(sel.get_support())]\r\n",
        "len(selected_feat)\r\n",
        "print(selected_feat)\r\n",
        "\r\n",
        "X_important_train = sel.transform(X_train_new)\r\n",
        "X_important_val = sel.transform(X_val)\r\n",
        "X_important_test = sel.transform(X_test_imp)"
      ],
      "execution_count": null,
      "outputs": []
    },
    {
      "cell_type": "code",
      "metadata": {
        "id": "GAxq1SVIWpRw"
      },
      "source": [
        "X_important_test = pd.DataFrame(X_important_test, columns = selected_feat)\r\n",
        "X_important_train = pd.DataFrame(X_important_train, columns = selected_feat)\r\n",
        "X_important_val = pd.DataFrame(X_important_val, columns = selected_feat)"
      ],
      "execution_count": null,
      "outputs": []
    },
    {
      "cell_type": "markdown",
      "metadata": {
        "id": "pAnZZ58WZUQD"
      },
      "source": [
        "random search with cross validation"
      ]
    },
    {
      "cell_type": "code",
      "metadata": {
        "id": "7fAgxW8lZWhT"
      },
      "source": [
        "# from sklearn.model_selection import RandomizedSearchCV\r\n",
        "\r\n",
        "# # Number of trees in random forest\r\n",
        "# n_estimators = [int(x) for x in np.linspace(start = 200, stop = 2000, num = 10)]\r\n",
        "# # Maximum number of levels in tree\r\n",
        "# max_depth = [int(x) for x in np.linspace(10, 110, num = 11)]\r\n",
        "# max_depth.append(None)\r\n",
        "# # Minimum number of samples required to split a node\r\n",
        "# min_samples_split = [2, 5, 10]\r\n",
        "# # Minimum number of samples required at each leaf node\r\n",
        "# min_samples_leaf = [1, 2, 4]\r\n",
        "# # Method of selecting samples for training each tree\r\n",
        "# bootstrap = [True, False]\r\n",
        "\r\n",
        "# # Create the random grid\r\n",
        "# random_grid = {'n_estimators': n_estimators,\r\n",
        "#                'max_depth': max_depth,\r\n",
        "#                'min_samples_split': min_samples_split,\r\n",
        "#                'min_samples_leaf': min_samples_leaf,\r\n",
        "#                'bootstrap': bootstrap}\r\n",
        "\r\n",
        "# print(random_grid)"
      ],
      "execution_count": null,
      "outputs": []
    },
    {
      "cell_type": "markdown",
      "metadata": {
        "id": "0CyBPC07q1Rn"
      },
      "source": [
        "no need to run this twice."
      ]
    },
    {
      "cell_type": "code",
      "metadata": {
        "id": "2CfFZ_pwmGSy"
      },
      "source": [
        "# # Use the random grid to search for best hyperparameters\r\n",
        "# # First create the base model to tune\r\n",
        "# rf = RandomForestClassifier(random_state = seed)\r\n",
        "# # Random search of parameters, using 3 fold cross validation, \r\n",
        "# # search across 100 different combinations, and use all available cores\r\n",
        "# rf_random = RandomizedSearchCV(estimator=rf, param_distributions=random_grid,\r\n",
        "#                               n_iter = 100, scoring='neg_mean_absolute_error', \r\n",
        "#                               cv = 3, verbose=1, random_state=seed, n_jobs=-1,\r\n",
        "#                               return_train_score=True)\r\n",
        "\r\n",
        "# # Fit the random search model\r\n",
        "# rf_random.fit(X_train_new,y_train_new)\r\n",
        "\r\n"
      ],
      "execution_count": null,
      "outputs": []
    },
    {
      "cell_type": "code",
      "metadata": {
        "id": "n6dkLNWwq9uN"
      },
      "source": [
        "#rf_random.best_params_"
      ],
      "execution_count": null,
      "outputs": []
    },
    {
      "cell_type": "markdown",
      "metadata": {
        "id": "p5CQjdGOq6z5"
      },
      "source": [
        "*RESULTS*\r\n",
        "<br>\r\n",
        "{'bootstrap': True, <br>\r\n",
        " 'max_depth': 40,<br>\r\n",
        " 'min_samples_leaf': 1,<br>\r\n",
        " 'min_samples_split': 10,<br>\r\n",
        " 'n_estimators': 200}\r\n"
      ]
    },
    {
      "cell_type": "markdown",
      "metadata": {
        "id": "Si1GlgCHNCri"
      },
      "source": [
        "Feature Importances"
      ]
    },
    {
      "cell_type": "code",
      "metadata": {
        "id": "UL3p8PbFvVXs"
      },
      "source": [
        "feature_importances = pd.DataFrame(rf.feature_importances_,\r\n",
        "                                   index = X_train_imp.columns,\r\n",
        "                                    columns=['importance']).sort_values('importance',\r\n",
        "                                                                        ascending=False)                                  \r\n",
        "print('Random Forest')\r\n",
        "plt.bar([x for x in range(len(rf.feature_importances_))], rf.feature_importances_)\r\n",
        "plt.show()\r\n",
        "feature_importances\r\n"
      ],
      "execution_count": null,
      "outputs": []
    },
    {
      "cell_type": "markdown",
      "metadata": {
        "id": "P53bFrQ_E3Ar"
      },
      "source": [
        "RF Validation"
      ]
    },
    {
      "cell_type": "code",
      "metadata": {
        "id": "m06wbA9RE8rq"
      },
      "source": [
        "print('RF score train: ', rf.score(X_train_imp,y_train))\r\n",
        "print('RF score val: ', rf.score(X_val,y_val))\r\n",
        "\r\n",
        "fpr, tpr, _ = roc_curve(y_val, y_predproba_rf)\r\n",
        "\r\n",
        "print(f\"The accuracy of the model is {round(accuracy_score(y_val,y_pred_rf),3)*100} %\")\r\n",
        "print(f\"The AUC score of the model is {round(roc_auc_score(y_val,y_predproba_rf),3)*100} %\")\r\n",
        "print(f\"The f1-score of the model is {round(f1_score(y_val,y_pred_rf),3)*100} %\")"
      ],
      "execution_count": null,
      "outputs": []
    },
    {
      "cell_type": "code",
      "metadata": {
        "id": "ItNSX-KjU3s0"
      },
      "source": [
        "def plot_confusion_matrix(normalize):\r\n",
        "  classes = ['Yes','No']\r\n",
        "  tick_marks = [0.5,1.5]\r\n",
        "  cn = confusion_matrix(y_val, y_pred_rf,normalize=normalize)\r\n",
        "  sns.heatmap(cn,cmap='plasma',annot=True)\r\n",
        "  plt.xticks(tick_marks, classes)\r\n",
        "  plt.yticks(tick_marks, classes)\r\n",
        "  plt.title('Confusion Matrix')\r\n",
        "  plt.ylabel('True label')\r\n",
        "  plt.xlabel('Predicted label')\r\n",
        "  plt.show()\r\n",
        "\r\n",
        "print('Confusion Matrix without Normalization')\r\n",
        "plot_confusion_matrix(normalize=None)\r\n",
        "\r\n",
        "print('Confusion Matrix with Normalized Values')\r\n",
        "plot_confusion_matrix(normalize='true')"
      ],
      "execution_count": null,
      "outputs": []
    },
    {
      "cell_type": "code",
      "metadata": {
        "id": "xaao5JlzUdI5"
      },
      "source": [
        "from sklearn.metrics import classification_report\r\n",
        "print(classification_report(y_val, y_pred_rf))\r\n",
        "\r\n"
      ],
      "execution_count": null,
      "outputs": []
    },
    {
      "cell_type": "code",
      "metadata": {
        "id": "WvgkrcmbTdPU"
      },
      "source": [
        "y_pred_test = rf.predict_proba(X_test_imp)[:, 1]\r\n",
        "a = pd.DataFrame(test_id)\r\n",
        "b = pd.DataFrame(np.array(y_pred_test))\r\n",
        "b.columns=['depression']\r\n",
        "\r\n",
        "df = pd.concat([a,b], axis=1)\r\n",
        "df.to_csv('/Output/7_babayaga_RF_full.csv', index = False)\r\n",
        "df"
      ],
      "execution_count": null,
      "outputs": []
    },
    {
      "cell_type": "markdown",
      "metadata": {
        "id": "v-ZdUARXPf_o"
      },
      "source": [
        "Decision Tree"
      ]
    },
    {
      "cell_type": "code",
      "metadata": {
        "id": "dPPimJ09PfVK"
      },
      "source": [
        "#  from sklearn.tree import DecisionTreeClassifier\r\n",
        "\r\n",
        "#  dt = DecisionTreeClassifier(random_state=0)\r\n",
        "\r\n",
        "#  dt.fit(X_train_new,y_train_new)\r\n",
        "\r\n",
        "# y_pred_dt = dt.predict(X_val)\r\n",
        "# y_predproba_dt = dt.predict_proba(X_val)[:, 1]"
      ],
      "execution_count": null,
      "outputs": []
    },
    {
      "cell_type": "markdown",
      "metadata": {
        "id": "w-r5GWArQAiB"
      },
      "source": [
        "Validation"
      ]
    },
    {
      "cell_type": "code",
      "metadata": {
        "id": "dBbqhwUBQBqe"
      },
      "source": [
        "# print('DT score train: ', dt.score(X_train_new,y_train_new))\r\n",
        "# print('DT score val: ', dt.score(X_val,y_val))\r\n",
        "\r\n",
        "# fpr, tpr, _ = roc_curve(y_val, y_predproba_dt)\r\n",
        "\r\n",
        "# print(f\"The accuracy of the model is {round(accuracy_score(y_val,y_pred_dt),3)*100} %\")\r\n",
        "# print(f\"The AUC score of the model is {round(roc_auc_score(y_val,y_predproba_dt),3)*100} %\")\r\n",
        "# print(f\"The f1-score of the model is {round(f1_score(y_val,y_pred_dt),3)*100} %\")"
      ],
      "execution_count": null,
      "outputs": []
    },
    {
      "cell_type": "markdown",
      "metadata": {
        "id": "27IKnpUry42D"
      },
      "source": [
        "KNN"
      ]
    },
    {
      "cell_type": "code",
      "metadata": {
        "id": "TFKq5wmqy9l-"
      },
      "source": [
        "# from sklearn.neighbors import KNeighborsClassifier\r\n",
        "\r\n",
        "# k_range = range(1,26)\r\n",
        "# scores = {}\r\n",
        "# scores_list = []\r\n",
        "\r\n",
        "# for k in k_range:\r\n",
        "#   knn = KNeighborsClassifier(n_neighbors = k)\r\n",
        "#   knn.fit(X_train_new,y_train_new)\r\n",
        "#   y_pred_knn = knn.predict(X_val)\r\n",
        "#   y_predproba_knn = knn.predict_proba(X_val)[:, 1]\r\n",
        "#   scores[k] = accuracy_score(y_val,y_pred_knn)\r\n",
        "#   scores_list.append(accuracy_score(y_val,y_pred_knn))"
      ],
      "execution_count": null,
      "outputs": []
    },
    {
      "cell_type": "code",
      "metadata": {
        "id": "22brkTfi53GU"
      },
      "source": [
        "# %matplotlib inline\r\n",
        "# import matplotlib.pyplot as plt\r\n",
        "\r\n",
        "# plt.plot(k_range, scores_list)\r\n",
        "# plt.xlabel('Value of k')\r\n",
        "# plt.ylabel('Testing accuracy')"
      ],
      "execution_count": null,
      "outputs": []
    },
    {
      "cell_type": "markdown",
      "metadata": {
        "id": "8jrClJMf6Sij"
      },
      "source": [
        "![image.png](data:image/png;base64,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)\r\n",
        "<br>\r\n",
        "so we choose k = 14"
      ]
    },
    {
      "cell_type": "code",
      "metadata": {
        "id": "P5aZ4N5X6Wm2"
      },
      "source": [
        "# knn = KNeighborsClassifier(n_neighbors = 14)\r\n",
        "# knn.fit(X_train_new,y_train_new)\r\n",
        "# y_pred_knn = knn.predict(X_val)\r\n",
        "# y_predproba_knn = knn.predict_proba(X_val)[:, 1]"
      ],
      "execution_count": null,
      "outputs": []
    },
    {
      "cell_type": "markdown",
      "metadata": {
        "id": "YxNvaYSO7vRQ"
      },
      "source": [
        "validation"
      ]
    },
    {
      "cell_type": "code",
      "metadata": {
        "id": "jjWFjdKa6sud"
      },
      "source": [
        "# print('KNN score train: ', knn.score(X_train_new,y_train_new))\r\n",
        "# print('KNN score val: ', knn.score(X_val,y_val))\r\n",
        "\r\n",
        "# fpr, tpr, _ = roc_curve(y_val, y_predproba_knn)\r\n",
        "\r\n",
        "# print(f\"The accuracy of the model is {round(accuracy_score(y_val,y_pred_knn),3)*100} %\")\r\n",
        "# print(f\"The AUC score of the model is {round(roc_auc_score(y_val,y_predproba_knn),3)*100} %\")\r\n",
        "# print(f\"The f1-score of the model is {round(f1_score(y_val,y_pred_knn),3)*100} %\")"
      ],
      "execution_count": null,
      "outputs": []
    },
    {
      "cell_type": "markdown",
      "metadata": {
        "id": "BA5reDOU7jLs"
      },
      "source": [
        "KNN prediction"
      ]
    },
    {
      "cell_type": "code",
      "metadata": {
        "id": "eYO48O4M7klj"
      },
      "source": [
        "# y_pred_test = knn.predict_proba(X_test_imp)[:, 1]\r\n",
        "# a = pd.DataFrame(test_id)\r\n",
        "# b = pd.DataFrame(np.array(y_pred_test))\r\n",
        "# b.columns=['depression']\r\n",
        "\r\n",
        "# df = pd.concat([a,b], axis=1)\r\n",
        "# df.to_csv('/content/drive/MyDrive/Projetcs/Ada Lovelace Datathon 2021/Output/7_babayaga_KNN_14.csv', index = False)\r\n",
        "# df"
      ],
      "execution_count": null,
      "outputs": []
    },
    {
      "cell_type": "markdown",
      "metadata": {
        "id": "QSO3q6tz8LZp"
      },
      "source": [
        "XGBoost"
      ]
    },
    {
      "cell_type": "markdown",
      "metadata": {
        "id": "WP4gQyM-C2Hq"
      },
      "source": [
        "Grid Search"
      ]
    },
    {
      "cell_type": "code",
      "metadata": {
        "id": "xVbk8lIfGtuq"
      },
      "source": [
        "# from sklearn.model_selection import GridSearchCV \r\n",
        "\r\n",
        "# param_test1 = {\r\n",
        "#  'max_depth':range(3,10,2),\r\n",
        "#  'min_child_weight':range(1,6,2)\r\n",
        "# }\r\n",
        "# gsearch1 = GridSearchCV(estimator = XGBClassifier( learning_rate =0.1, n_estimators=140, max_depth=5,\r\n",
        "#  min_child_weight=1, gamma=0, subsample=0.8, colsample_bytree=0.8,\r\n",
        "#  objective= 'binary:logistic', nthread=4, scale_pos_weight=1, seed=27), \r\n",
        "#  param_grid = param_test1, scoring='roc_auc',n_jobs=4,iid=False, cv=3)\r\n",
        "# gsearch1.fit(X_train_new,y_train_new)\r\n",
        "# gsearch1.cv_results_, gsearch1.best_params_, gsearch1.best_score_\r\n",
        "\r\n",
        "# param_test2 = {\r\n",
        "#  'max_depth':[4,5,6],\r\n",
        "#  'min_child_weight':[4,5,6]\r\n",
        "# }\r\n",
        "# gsearch2 = GridSearchCV(estimator = XGBClassifier( learning_rate=0.1, n_estimators=140, max_depth=5,\r\n",
        "#  min_child_weight=2, gamma=0, subsample=0.8, colsample_bytree=0.8,\r\n",
        "#  objective= 'binary:logistic', nthread=4, scale_pos_weight=1,seed=27), \r\n",
        "#  param_grid = param_test2, scoring='roc_auc',n_jobs=4,iid=False, cv=5)\r\n",
        "# gsearch2.fit(X_train_new,y_train_new)\r\n",
        "# gsearch2.cv_results_, gsearch2.best_params_, gsearch2.best_score_\r\n",
        "\r\n",
        "# param_test3 = {\r\n",
        "#  'gamma':[i/10.0 for i in range(0,5)]\r\n",
        "# }\r\n",
        "# gsearch3 = GridSearchCV(estimator = XGBClassifier( learning_rate =0.1, n_estimators=140, max_depth=4,\r\n",
        "#  min_child_weight=6, gamma=0, subsample=0.8, colsample_bytree=0.8,\r\n",
        "#  objective= 'binary:logistic', nthread=4, scale_pos_weight=1,seed=27), \r\n",
        "#  param_grid = param_test3, scoring='roc_auc',n_jobs=4,iid=False, cv=5)\r\n",
        "# gsearch3.fit(X_train_new,y_train_new)\r\n",
        "# gsearch3.cv_results_, gsearch3.best_params_, gsearch3.best_score_\r\n",
        "\r\n",
        "# param_test4 = {\r\n",
        "#  'subsample':[i/10.0 for i in range(6,10)],\r\n",
        "#  'colsample_bytree':[i/10.0 for i in range(6,10)]\r\n",
        "# }\r\n",
        "# gsearch4 = GridSearchCV(estimator = XGBClassifier( learning_rate =0.1, n_estimators=177, max_depth=4,\r\n",
        "#  min_child_weight=6, gamma=0, subsample=0.8, colsample_bytree=0.8,\r\n",
        "#  objective= 'binary:logistic', nthread=4, scale_pos_weight=1,seed=27), \r\n",
        "#  param_grid = param_test4, scoring='roc_auc',n_jobs=4,iid=False, cv=5)\r\n",
        "# gsearch4.fit(X_train_new,y_train_new)\r\n",
        "# gsearch4.cv_results_, gsearch4.best_params_, gsearch4.best_score_\r\n",
        "\r\n",
        "# param_test6 = {\r\n",
        "#  'reg_alpha':[1e-5, 1e-2, 0.1, 1, 100]\r\n",
        "# }\r\n",
        "# gsearch6 = GridSearchCV(estimator = XGBClassifier( learning_rate =0.1, n_estimators=177, max_depth=4,\r\n",
        "#  min_child_weight=6, gamma=0.1, subsample=0.8, colsample_bytree=0.8,\r\n",
        "#  objective= 'binary:logistic', nthread=4, scale_pos_weight=1,seed=27), \r\n",
        "#  param_grid = param_test6, scoring='roc_auc',n_jobs=4,iid=False, cv=5)\r\n",
        "# gsearch6.fit(X_train_new,y_train_new)\r\n",
        "# gsearch6.cv_results_, gsearch6.best_params_, gsearch6.best_score_"
      ],
      "execution_count": null,
      "outputs": []
    },
    {
      "cell_type": "code",
      "metadata": {
        "id": "CYG7lUHQKPEc"
      },
      "source": [
        "# xgb4 = XGBClassifier(\r\n",
        "#  learning_rate =0.01,\r\n",
        "#  n_estimators=5000,\r\n",
        "#  max_depth=4,\r\n",
        "#  min_child_weight=6,\r\n",
        "#  gamma=0.2,\r\n",
        "#  subsample=0.9,\r\n",
        "#  colsample_bytree=0.6,\r\n",
        "#  reg_alpha=0.005,\r\n",
        "#  objective= 'binary:logistic',\r\n",
        "#  nthread=4,\r\n",
        "#  scale_pos_weight=1,\r\n",
        "#  seed=27)\r\n",
        "\r\n",
        "# print(cross_val_score(xgb3, X_train_new,y_train_new))\r\n",
        "\r\n",
        "# xgb4.fit(X_train_new,y_train_new)\r\n",
        "# y_pred_xgb = xgb4.predict(X_val)\r\n",
        "# y_predproba_xgb= xgb4.predict_proba(X_val)[:, 1]"
      ],
      "execution_count": null,
      "outputs": []
    },
    {
      "cell_type": "code",
      "metadata": {
        "id": "WAogaSMG8Mer"
      },
      "source": [
        "from xgboost import XGBClassifier\r\n",
        "from sklearn.model_selection import cross_val_score\r\n",
        "\r\n",
        "xgb = XGBClassifier(eta = 0.01, objective = 'binary:logistic')\r\n",
        "\r\n",
        "print(cross_val_score(xgb, X_train,y_train))\r\n",
        "xgb.fit(X_train_imp,y_train)\r\n",
        "# y_pred_xgb = xgb.predict(X_val)\r\n",
        "# y_predproba_xgb= xgb.predict_proba(X_val)[:, 1]"
      ],
      "execution_count": null,
      "outputs": []
    },
    {
      "cell_type": "markdown",
      "metadata": {
        "id": "RBQn00ffRVIh"
      },
      "source": [
        "Feature Importances"
      ]
    },
    {
      "cell_type": "code",
      "metadata": {
        "id": "vMVSOpVARXoS"
      },
      "source": [
        "# feature_importances_x = pd.DataFrame(xgb.feature_importances_,\r\n",
        "#                                    index = X_train_imp.columns,\r\n",
        "#                                     columns=['importance']).sort_values('importance',\r\n",
        "#                                                                         ascending=False)                                  \r\n",
        "# print('XGBoost')\r\n",
        "# plt.bar([x for x in range(len(xgb.feature_importances_))], xgb.feature_importances_)\r\n",
        "# plt.show()\r\n",
        "# feature_importances_x "
      ],
      "execution_count": null,
      "outputs": []
    },
    {
      "cell_type": "markdown",
      "metadata": {
        "id": "3hvoifEu-LmS"
      },
      "source": [
        "validation"
      ]
    },
    {
      "cell_type": "code",
      "metadata": {
        "id": "faeySuIyMPlV"
      },
      "source": [
        "# print('XGBoost score train: ', xgb.score(X_train_new,y_train_new))\r\n",
        "# print('XGBoost score val: ', xgb.score(X_val,y_val))\r\n",
        "\r\n",
        "# fpr, tpr, _ = roc_curve(y_val, y_predproba_xgb)\r\n",
        "\r\n",
        "# print(f\"The accuracy of the model is {round(accuracy_score(y_val,y_pred_xgb),3)*100} %\")\r\n",
        "# print(f\"The AUC score of the model is {round(roc_auc_score(y_val,y_predproba_xgb),3)*100} %\")\r\n",
        "# print(f\"The f1-score of the model is {round(f1_score(y_val,y_pred_xgb),3)*100} %\")"
      ],
      "execution_count": null,
      "outputs": []
    },
    {
      "cell_type": "markdown",
      "metadata": {
        "id": "xhs1tpY1-naC"
      },
      "source": [
        "Prediction"
      ]
    },
    {
      "cell_type": "code",
      "metadata": {
        "id": "dCOz-egp-QaM"
      },
      "source": [
        "y_pred_test = xgb.predict_proba(X_test_imp)[:, 1]\r\n",
        "a = pd.DataFrame(test_id)\r\n",
        "b = pd.DataFrame(np.array(y_pred_test))\r\n",
        "b.columns=['depression']\r\n",
        "\r\n",
        "df = pd.concat([a,b], axis=1)\r\n",
        "df.to_csv('/content/drive/MyDrive/Output/7_babayaga_xgb_full.csv', index = False)\r\n",
        "df"
      ],
      "execution_count": null,
      "outputs": []
    },
    {
      "cell_type": "markdown",
      "metadata": {
        "id": "okeZhHpk5ni9"
      },
      "source": [
        "One Hot Encoding"
      ]
    },
    {
      "cell_type": "code",
      "metadata": {
        "id": "hXkfsPZ75pmZ"
      },
      "source": [
        "from sklearn.preprocessing import OneHotEncoder\r\n",
        "\r\n",
        "ohe = OneHotEncoder(sparse=False)\r\n",
        "\r\n",
        "print('Original number of features: \\n', X_train_imp.shape[1], \"\\n\")\r\n",
        "ohe_train = (ohe.fit_transform(X_train_imp))\r\n",
        "# ohe_val = (ohe.transform(X_val))\r\n",
        "print('Features after OHE: \\n', ohe_train.shape[1])\r\n",
        "\r\n",
        "rf.fit(ohe_train,y_train)\r\n",
        "# ohe_rf_score = rf.score(ohe_val,y_val)\r\n",
        "# print('Random Forest score with one-hot encoding:', ohe_rf_score)\r\n",
        "\r\n",
        "# y_pred_rf = rf.predict(ohe_val)\r\n",
        "# y_predproba_rf = rf.predict_proba(ohe_val)[:, 1]\r\n",
        "\r\n",
        "# print(f\"The accuracy of the model is {round(accuracy_score(y_val,y_pred_rf),3)*100} %\")\r\n",
        "# print(f\"The AUC score of the model is {round(roc_auc_score(y_val,y_predproba_rf),3)*100} %\")\r\n",
        "# print(f\"The f1-score of the model is {round(f1_score(y_val,y_pred_rf),3)*100} %\")"
      ],
      "execution_count": null,
      "outputs": []
    },
    {
      "cell_type": "markdown",
      "metadata": {
        "id": "aQcpnbDGBWNM"
      },
      "source": [
        "Target Encoding"
      ]
    },
    {
      "cell_type": "code",
      "metadata": {
        "id": "NiIP6xhTCNLi"
      },
      "source": [
        "!pip install --upgrade category_encoders\r\n",
        "!pip install xgboost\r\n",
        "!pip install featuretools"
      ],
      "execution_count": null,
      "outputs": []
    },
    {
      "cell_type": "code",
      "metadata": {
        "id": "77MGrKzyBXgQ"
      },
      "source": [
        "# from category_encoders import TargetEncoder\r\n",
        "\r\n",
        "# targ_enc = TargetEncoder(cols=X_train_new.columns, smoothing=8, min_samples_leaf=5).fit(X_train_new, y_train_new)\r\n",
        "\r\n",
        "# X_train_te = targ_enc.transform(X_train_new.reset_index(drop=True))\r\n",
        "# X_val_te = targ_enc.transform(X_val.reset_index(drop=True))\r\n",
        "\r\n",
        "# X_train_te.head()\r\n",
        "\r\n",
        "# rf.fit(X_train_te,y_train_new)\r\n",
        "# te_rf_score = rf.score(X_val_te,y_val)\r\n",
        "# print('Random Forest score with one-hot encoding:', te_rf_score)\r\n",
        "\r\n",
        "# y_pred_rf = rf.predict(X_val_te)\r\n",
        "# y_predproba_rf = rf.predict_proba(X_val_te)[:, 1]\r\n",
        "\r\n",
        "# print(f\"The accuracy of the model is {round(accuracy_score(y_val,y_pred_rf),3)*100} %\")\r\n",
        "# print(f\"The AUC score of the model is {round(roc_auc_score(y_val,y_predproba_rf),3)*100} %\")\r\n",
        "# print(f\"The f1-score of the model is {round(f1_score(y_val,y_pred_rf),3)*100} %\")"
      ],
      "execution_count": null,
      "outputs": []
    },
    {
      "cell_type": "markdown",
      "metadata": {
        "id": "q1H8Za2iC7BN"
      },
      "source": [
        "Weight of Evidence"
      ]
    },
    {
      "cell_type": "code",
      "metadata": {
        "id": "EIryo-5TC8ph"
      },
      "source": [
        "from category_encoders import WOEEncoder\r\n",
        "\r\n",
        "woe_enc = WOEEncoder(cols=X_train_imp.columns, random_state=17).fit(X_train_imp, y_train)\r\n",
        "\r\n",
        "X_train_woe = woe_enc.transform(X_train_imp.reset_index(drop=True))\r\n",
        "# X_val_woe = woe_enc.transform(X_val.reset_index(drop=True))\r\n",
        "\r\n",
        "X_train_woe.head()\r\n",
        "\r\n",
        "model.fit(X_train_woe,y_train)\r\n",
        "# woe_rf_score = rf.score(X_val_woe,y_val)\r\n",
        "# print('Random Forest score with one-hot encoding:', woe_rf_score)\r\n",
        "\r\n",
        "# y_pred_rf = stacking_model.predict(X_val_woe)\r\n",
        "# y_predproba_rf = stacking_model.predict_proba(X_val_woe)[:, 1]\r\n",
        "\r\n",
        "# print(f\"The accuracy of the model is {round(accuracy_score(y_val,y_pred_rf),3)*100} %\")\r\n",
        "# print(f\"The AUC score of the model is {round(roc_auc_score(y_val,y_predproba_rf),3)*100} %\")\r\n",
        "# print(f\"The f1-score of the model is {round(f1_score(y_val,y_pred_rf),3)*100} %\")"
      ],
      "execution_count": null,
      "outputs": []
    },
    {
      "cell_type": "markdown",
      "metadata": {
        "id": "n9EW8s5JFH2F"
      },
      "source": [
        "Hashing"
      ]
    },
    {
      "cell_type": "code",
      "metadata": {
        "id": "fiPL4xCKFIfo"
      },
      "source": [
        "# from category_encoders import HashingEncoder\r\n",
        "\r\n",
        "# n_components_list = [100, 500, 1000, 5000, 10000]\r\n",
        "# n_components_list_str = [str(i) for i in n_components_list]\r\n",
        "\r\n",
        "# hashing_enc = HashingEncoder(cols=X_train_new.columns, n_components=10000).fit(X_train_new, y_train_new)\r\n",
        "\r\n",
        "# X_train_hashing = hashing_enc.transform(X_train_new.reset_index(drop=True))\r\n",
        "# X_val_hashing = hashing_enc.transform(X_val.reset_index(drop=True))\r\n",
        "\r\n",
        "# X_train_hashing.head()\r\n",
        "    \r\n",
        "# rf.fit(X_train_hashing,y_train_new)\r\n",
        "# hashing_rf_score = rf.score(X_val_hashing,y_val)\r\n",
        "# print('Random Forest score with one-hot encoding:', hashing_rf_score)"
      ],
      "execution_count": null,
      "outputs": []
    },
    {
      "cell_type": "markdown",
      "metadata": {
        "id": "lKpW3QR3HMiI"
      },
      "source": [
        "Leave One Out"
      ]
    },
    {
      "cell_type": "code",
      "metadata": {
        "id": "MjlqweV-GD8J"
      },
      "source": [
        "# from category_encoders import LeaveOneOutEncoder\r\n",
        "\r\n",
        "# loo_enc = LeaveOneOutEncoder(cols=X_train_new.columns).fit(X_train_new, y_train_new)\r\n",
        "\r\n",
        "# X_train_loo = loo_enc.transform(X_train_new.reset_index(drop=True))\r\n",
        "# X_val_loo = loo_enc.transform(X_val.reset_index(drop=True))\r\n",
        "\r\n",
        "# X_train_loo.head()\r\n",
        "\r\n",
        "# rf.fit(X_train_loo,y_train_new)\r\n",
        "# loo_rf_score = rf.score(X_val_loo,y_val)\r\n",
        "# print('Random Forest score with leave one out:', loo_rf_score)"
      ],
      "execution_count": null,
      "outputs": []
    },
    {
      "cell_type": "code",
      "metadata": {
        "id": "784WdL0TKgnV"
      },
      "source": [
        "#X_test_ohe = ohe.transform(X_test_imp)\r\n",
        "#X_test_te = targ_enc.transform(X_test_imp.reset_index(drop=True))\r\n",
        "X_test_woe = woe_enc.transform(X_test_imp.reset_index(drop=True))\r\n",
        "\r\n",
        "y_pred_test = model.predict_proba(X_test_woe)[:, 1]\r\n",
        "a = pd.DataFrame(test_id)\r\n",
        "b = pd.DataFrame(np.array(y_pred_test))\r\n",
        "b.columns=['depression']\r\n",
        "\r\n",
        "df = pd.concat([a,b], axis=1)\r\n",
        "df.to_csv('/content/drive/MyDrive/7_babayaga_xgbrf_woe_full.csv', index = False)\r\n",
        "df"
      ],
      "execution_count": null,
      "outputs": []
    },
    {
      "cell_type": "markdown",
      "metadata": {
        "id": "l0icxRQ8XHL5"
      },
      "source": [
        "### Ensemble "
      ]
    },
    {
      "cell_type": "code",
      "metadata": {
        "id": "QQ4QCiTJXJ-e"
      },
      "source": [
        "#XGBoost Random Forest\r\n",
        "\r\n",
        "# evaluate xgboost random forest algorithm for classification\r\n",
        "from numpy import mean\r\n",
        "from numpy import std\r\n",
        "from sklearn.datasets import make_classification\r\n",
        "from sklearn.model_selection import cross_val_score\r\n",
        "from sklearn.model_selection import RepeatedStratifiedKFold\r\n",
        "from xgboost import XGBRFClassifier\r\n",
        "\r\n",
        "# define the model\r\n",
        "model = XGBRFClassifier(n_estimators=500, subsample=0.9, colsample_bynode=0.2)\r\n",
        "# define the model evaluation procedure\r\n",
        "cv = RepeatedStratifiedKFold(n_splits=5, n_repeats=3, random_state=1)\r\n",
        "# evaluate the model and collect the scores\r\n",
        "n_scores = cross_val_score(model, X_train_imp, y_train, scoring='accuracy', cv=cv, n_jobs=-1)\r\n",
        "# report performance\r\n",
        "print('Mean Accuracy: %.3f (%.3f)' % (mean(n_scores), std(n_scores)))"
      ],
      "execution_count": null,
      "outputs": []
    },
    {
      "cell_type": "markdown",
      "metadata": {
        "id": "8w-jX9uHaS87"
      },
      "source": [
        "Max Voting"
      ]
    },
    {
      "cell_type": "code",
      "metadata": {
        "id": "aSuvyuvYaT-h"
      },
      "source": [
        "# from sklearn.ensemble import VotingClassifier\r\n",
        "# model1 = rf\r\n",
        "# model2 = xgb\r\n",
        "# model = VotingClassifier(estimators=[('lr', model1), ('dt', model2)], voting='soft')\r\n",
        "# model.fit(X_train_new,y_train_new)\r\n",
        "# model.score(X_val,y_val)"
      ],
      "execution_count": null,
      "outputs": []
    },
    {
      "cell_type": "markdown",
      "metadata": {
        "id": "5BrF8B40pPZE"
      },
      "source": [
        "Stacking"
      ]
    },
    {
      "cell_type": "code",
      "metadata": {
        "id": "gTocVGmBpQaK"
      },
      "source": [
        "# models_dict = {'random_forest': rf,\r\n",
        "#                'svm': SVC(),\r\n",
        "#                'xgboost' : xgb}"
      ],
      "execution_count": null,
      "outputs": []
    },
    {
      "cell_type": "code",
      "metadata": {
        "id": "HpAjNCKppahy"
      },
      "source": [
        "from sklearn.model_selection import cross_val_score\r\n",
        "from sklearn.model_selection import RepeatedStratifiedKFold\r\n",
        "\r\n",
        "from collections import defaultdict\r\n",
        "# def evaluate_model(model, X, y):\r\n",
        "#     cv = RepeatedStratifiedKFold(n_splits=5, n_repeats=2, random_state=1)\r\n",
        "#     scores = cross_val_score(model, X, y, scoring='accuracy', cv=cv, verbose=1, n_jobs=3, error_score='raise')\r\n",
        "#     return scores\r\n",
        "# model_scores = defaultdict()\r\n",
        "# for name, model in models_dict.items():\r\n",
        "#     print('Evaluating {}'.format(name))\r\n",
        "#     scores = evaluate_model(model, X_train_new, y_train_new)\r\n",
        "#     model_scores[name] = scores"
      ],
      "execution_count": null,
      "outputs": []
    },
    {
      "cell_type": "code",
      "metadata": {
        "id": "iOi6eGa5sXZh"
      },
      "source": [
        "from sklearn.ensemble import StackingClassifier\r\n",
        "from sklearn.neural_network import MLPClassifier\r\n",
        "from sklearn.linear_model import LogisticRegressionCV\r\n",
        "from sklearn.neighbors import KNeighborsClassifier\r\n",
        "\r\n",
        "base_models = [('random_forest', rf),\r\n",
        "               ('svm', SVC()),\r\n",
        "               ('knn', KNeighborsClassifier(n_neighbors=14))]\r\n",
        "meta_model = xgb\r\n",
        "stacking_model = StackingClassifier(estimators=base_models, \r\n",
        "                                    final_estimator=meta_model, \r\n",
        "                                    passthrough=True, \r\n",
        "                                    cv=5,\r\n",
        "                                    verbose=2)"
      ],
      "execution_count": null,
      "outputs": []
    },
    {
      "cell_type": "code",
      "metadata": {
        "id": "S9SeSs-msm37"
      },
      "source": [
        "stacking_scores = evaluate_model(stacking_model, X_train_imp, y_train)\r\n",
        "model_scores['stacking'] = stacking_scores"
      ],
      "execution_count": null,
      "outputs": []
    },
    {
      "cell_type": "code",
      "metadata": {
        "id": "5_CdUUZyuhBA"
      },
      "source": [
        "model_scores"
      ],
      "execution_count": null,
      "outputs": []
    }
  ]
}